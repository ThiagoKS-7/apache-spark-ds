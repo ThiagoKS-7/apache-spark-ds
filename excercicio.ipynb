{
 "cells": [
  {
   "cell_type": "code",
   "execution_count": 1,
   "metadata": {},
   "outputs": [
    {
     "name": "stdout",
     "output_type": "stream",
     "text": [
      "./start.sh: illegal option -- q\n",
      "[sudo] password for thiago: Sorry, try again.\n",
      "[sudo] password for thiago: \n",
      "sudo: no password was provided\n",
      "sudo: 1 incorrect password attempt\n",
      "[sudo] password for thiago: Sorry, try again.\n",
      "[sudo] password for thiago: \n",
      "sudo: no password was provided\n",
      "sudo: 1 incorrect password attempt\n",
      "--2023-07-13 12:11:45--  https://archive.apache.org/dist/spark/spark-3.1.2/spark-3.1.2-bin-hadoop2.7.tgz\n",
      "Resolving archive.apache.org (archive.apache.org)... 65.108.204.189, 2a01:4f9:1a:a084::2\n",
      "Connecting to archive.apache.org (archive.apache.org)|65.108.204.189|:443... connected.\n",
      "HTTP request sent, awaiting response... 200 OK\n",
      "Length: 224445805 (214M) [application/x-gzip]\n",
      "Saving to: ‘spark-3.1.2-bin-hadoop2.7.tgz’\n",
      "\n",
      "spark-3.1.2-bin-had 100%[===================>] 214.05M  2.82MB/s    in 2m 41s  \n",
      "\n",
      "2023-07-13 12:14:28 (1.33 MB/s) - ‘spark-3.1.2-bin-hadoop2.7.tgz’ saved [224445805/224445805]\n",
      "\n",
      "[sudo] password for thiago: Sorry, try again.\n",
      "[sudo] password for thiago: \n",
      "sudo: no password was provided\n",
      "sudo: 1 incorrect password attempt\n",
      "[sudo] password for thiago: Sorry, try again.\n",
      "[sudo] password for thiago: \n",
      "sudo: no password was provided\n",
      "sudo: 1 incorrect password attempt\n",
      "Requirement already satisfied: findspark in /home/thiago/.local/lib/python3.8/site-packages (2.0.1)\n",
      "[INFO] Installation done!\n"
     ]
    }
   ],
   "source": [
    "# instalar as dependências\n",
    "!chmod u=rwx,g=rx,o=rx  start.sh && ./start.sh -p \"zTAgUdbQ&\" -q"
   ]
  },
  {
   "cell_type": "code",
   "execution_count": null,
   "metadata": {},
   "outputs": [],
   "source": [
    "import os\n",
    "os.environ[\"JAVA_HOME\"] = \"/usr/lib/jvm/java-8-openjdk-amd64\"\n",
    "os.environ[\"SPARK_HOME\"] = \"./spark-3.1.2-bin-hadoop2.7\""
   ]
  },
  {
   "cell_type": "code",
   "execution_count": null,
   "metadata": {},
   "outputs": [],
   "source": [
    "import findspark\n",
    "findspark.init()"
   ]
  },
  {
   "cell_type": "code",
   "execution_count": null,
   "metadata": {},
   "outputs": [],
   "source": [
    "!chmod u=rwx,g=rx,o=rx  ngrok_install.sh && ./ngrok_install.sh -p \"zTAgUdbQ&\" -q"
   ]
  },
  {
   "cell_type": "code",
   "execution_count": null,
   "metadata": {},
   "outputs": [],
   "source": [
    "zipfile.ZipFile('./empresas.zip', 'r')"
   ]
  }
 ],
 "metadata": {
  "kernelspec": {
   "display_name": "Python 3",
   "language": "python",
   "name": "python3"
  },
  "language_info": {
   "codemirror_mode": {
    "name": "ipython",
    "version": 3
   },
   "file_extension": ".py",
   "mimetype": "text/x-python",
   "name": "python",
   "nbconvert_exporter": "python",
   "pygments_lexer": "ipython3",
   "version": "3.8.10"
  },
  "orig_nbformat": 4
 },
 "nbformat": 4,
 "nbformat_minor": 2
}
