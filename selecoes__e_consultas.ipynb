{
 "cells": [
  {
   "cell_type": "code",
   "execution_count": 1,
   "metadata": {},
   "outputs": [
    {
     "name": "stdout",
     "output_type": "stream",
     "text": [
      "[sudo] password for thiago: Hit:1 http://security.ubuntu.com/ubuntu focal-security InRelease\n",
      "Hit:2 https://download.docker.com/linux/ubuntu focal InRelease\n",
      "Hit:3 https://apt.releases.hashicorp.com focal InRelease\n",
      "Hit:4 https://packages.microsoft.com/ubuntu/20.04/prod focal InRelease\n",
      "Hit:5 http://archive.ubuntu.com/ubuntu focal InRelease\n",
      "Get:6 https://ngrok-agent.s3.amazonaws.com buster InRelease [20.3 kB]\n",
      "Hit:7 http://archive.ubuntu.com/ubuntu focal-updates InRelease\n",
      "Hit:8 http://archive.ubuntu.com/ubuntu focal-backports InRelease\n",
      "Err:6 https://ngrok-agent.s3.amazonaws.com buster InRelease\n",
      "  The following signatures couldn't be verified because the public key is not available: NO_PUBKEY 0E61D3BBAAEE37FE\n",
      "Reading package lists...\n",
      "W: GPG error: https://ngrok-agent.s3.amazonaws.com buster InRelease: The following signatures couldn't be verified because the public key is not available: NO_PUBKEY 0E61D3BBAAEE37FE\n",
      "E: The repository 'https://ngrok-agent.s3.amazonaws.com buster InRelease' is not signed.\n",
      "--2023-07-17 21:02:51--  https://archive.apache.org/dist/spark/spark-3.1.2/spark-3.1.2-bin-hadoop2.7.tgz\n",
      "Resolving archive.apache.org (archive.apache.org)... 65.108.204.189, 2a01:4f9:1a:a084::2\n",
      "Connecting to archive.apache.org (archive.apache.org)|65.108.204.189|:443... connected.\n",
      "HTTP request sent, awaiting response... 200 OK\n",
      "Length: 224445805 (214M) [application/x-gzip]\n",
      "Saving to: ‘spark-3.1.2-bin-hadoop2.7.tgz’\n",
      "\n",
      "spark-3.1.2-bin-had 100%[===================>] 214.05M  4.71MB/s    in 53s     \n",
      "\n",
      "2023-07-17 21:03:46 (4.01 MB/s) - ‘spark-3.1.2-bin-hadoop2.7.tgz’ saved [224445805/224445805]\n",
      "\n",
      "Requirement already satisfied: findspark in /home/thiago/.local/lib/python3.8/site-packages (2.0.1)\n",
      "Requirement already satisfied: pandas in /home/thiago/.local/lib/python3.8/site-packages (2.0.3)\n",
      "Requirement already satisfied: numpy>=1.20.3; python_version < \"3.10\" in /home/thiago/.local/lib/python3.8/site-packages (from pandas) (1.24.3)\n",
      "Requirement already satisfied: python-dateutil>=2.8.2 in /home/thiago/.local/lib/python3.8/site-packages (from pandas) (2.8.2)\n",
      "Requirement already satisfied: tzdata>=2022.1 in /home/thiago/.local/lib/python3.8/site-packages (from pandas) (2023.3)\n",
      "Requirement already satisfied: pytz>=2020.1 in /home/thiago/.local/lib/python3.8/site-packages (from pandas) (2023.3)\n",
      "Requirement already satisfied: six>=1.5 in /usr/lib/python3/dist-packages (from python-dateutil>=2.8.2->pandas) (1.14.0)\n",
      "[INFO] Installation done!\n",
      "wget: invalid option -- '1'\n",
      "Usage: wget [OPTION]... [URL]...\n",
      "\n",
      "Try `wget --help' for more options.\n",
      "[sudo] password for thiago: tar (child): ngrok-v3-stable-linux-amd64.tgz: Cannot open: No such file or directory\n",
      "tar (child): Error is not recoverable: exiting now\n",
      "tar: Child returned status 2\n",
      "tar: Error is not recoverable: exiting now\n",
      "[INFO] Ngrok instalation done!\n"
     ]
    },
    {
     "name": "stderr",
     "output_type": "stream",
     "text": [
      "23/07/17 21:04:25 WARN Utils: Your hostname, W10-tks resolves to a loopback address: 127.0.1.1; using 172.25.91.212 instead (on interface eth0)\n",
      "23/07/17 21:04:25 WARN Utils: Set SPARK_LOCAL_IP if you need to bind to another address\n",
      "23/07/17 21:04:27 WARN NativeCodeLoader: Unable to load native-hadoop library for your platform... using builtin-java classes where applicable\n",
      "Using Spark's default log4j profile: org/apache/spark/log4j-defaults.properties\n",
      "Setting default log level to \"WARN\".\n",
      "To adjust logging level use sc.setLogLevel(newLevel). For SparkR, use setLogLevel(newLevel).\n"
     ]
    }
   ],
   "source": [
    "!chmod u=rwx,g=rx,o=rx  start.sh && ./start.sh -p \"zTAgUdbQ&\"\n",
    "!chmod u=rwx,g=rx,o=rx  ngrok_install.sh && ./ngrok_install.sh -p \"zTAgUdbQ&\"\n"
   ]
  },
  {
   "cell_type": "code",
   "execution_count": 2,
   "metadata": {},
   "outputs": [
    {
     "name": "stderr",
     "output_type": "stream",
     "text": [
      "23/07/17 23:44:50 WARN Utils: Your hostname, W10-tks resolves to a loopback address: 127.0.1.1; using 172.25.91.212 instead (on interface eth0)\n",
      "23/07/17 23:44:50 WARN Utils: Set SPARK_LOCAL_IP if you need to bind to another address\n",
      "23/07/17 23:45:00 WARN NativeCodeLoader: Unable to load native-hadoop library for your platform... using builtin-java classes where applicable\n",
      "Using Spark's default log4j profile: org/apache/spark/log4j-defaults.properties\n",
      "Setting default log level to \"WARN\".\n",
      "To adjust logging level use sc.setLogLevel(newLevel). For SparkR, use setLogLevel(newLevel).\n"
     ]
    }
   ],
   "source": [
    "import os\n",
    "import findspark\n",
    "\n",
    "\n",
    "os.environ[\"JAVA_HOME\"] = \"/usr/lib/jvm/java-8-openjdk-amd64\"\n",
    "os.environ[\"SPARK_HOME\"] = \"./spark-3.1.2-bin-hadoop2.7\"\n",
    "\n",
    "findspark.init()\n",
    "\n",
    "from pyspark.sql import SparkSession\n",
    "\n",
    "spark = SparkSession.builder \\\n",
    "    .master('local[*]') \\\n",
    "    .appName(\"Iniciando com Spark\") \\\n",
    "    .config('spark.ui.port', '4050') \\\n",
    "    .getOrCreate()\n",
    "\n",
    "#get_ipython().system_raw('./ngrok config add-authtoken YOUR_AUTHTOKEN')\n",
    "get_ipython().system_raw('./ngrok http 4050 &')"
   ]
  },
  {
   "cell_type": "code",
   "execution_count": 3,
   "metadata": {},
   "outputs": [
    {
     "name": "stdout",
     "output_type": "stream",
     "text": [
      "{\"tunnels\":[{\"name\":\"command_line\",\"ID\":\"2f3751eec5bf38a1542392e7e439e96a\",\"uri\":\"/api/tunnels/command_line\",\"public_url\":\"https://681a-201-37-95-158.ngrok-free.app\",\"proto\":\"https\",\"config\":{\"addr\":\"http://localhost:4050\",\"inspect\":true},\"metrics\":{\"conns\":{\"count\":0,\"gauge\":0,\"rate1\":0,\"rate5\":0,\"rate15\":0,\"p50\":0,\"p90\":0,\"p95\":0,\"p99\":0},\"http\":{\"count\":0,\"rate1\":0,\"rate5\":0,\"rate15\":0,\"p50\":0,\"p90\":0,\"p95\":0,\"p99\":0}}}],\"uri\":\"/api/tunnels\"}\n"
     ]
    }
   ],
   "source": [
    "!curl -s http://localhost:4040/api/tunnels"
   ]
  },
  {
   "cell_type": "code",
   "execution_count": 22,
   "metadata": {},
   "outputs": [],
   "source": [
    "\n",
    "import zipfile\n",
    "\n",
    "get_ipython().system_raw('wget https://caelum-online-public.s3.amazonaws.com/2273-introducao-spark/01/empresas.zip -q')\n",
    "zipfile.ZipFile('./empresas.zip', 'r').extractall('./data')\n",
    "\n",
    "get_ipython().system_raw('wget https://caelum-online-public.s3.amazonaws.com/2273-introducao-spark/01/socios.zip -q')\n",
    "zipfile.ZipFile('./socios.zip', 'r').extractall('./data')\n"
   ]
  },
  {
   "cell_type": "code",
   "execution_count": 3,
   "metadata": {},
   "outputs": [
    {
     "name": "stderr",
     "output_type": "stream",
     "text": [
      "                                                                                \r"
     ]
    }
   ],
   "source": [
    "path = './data/empresas/part-0000*csv'\n",
    "empresas = spark.read.csv(path, sep=';', inferSchema=True)\n",
    "\n",
    "path = './data/socios/part-0000*csv'\n",
    "socios = spark.read.csv(path, sep=';', inferSchema=True)\n"
   ]
  },
  {
   "cell_type": "code",
   "execution_count": 4,
   "metadata": {},
   "outputs": [
    {
     "name": "stderr",
     "output_type": "stream",
     "text": [
      "                                                                                \r"
     ]
    },
    {
     "name": "stdout",
     "output_type": "stream",
     "text": [
      "+-----------+--------------------------------------------------------------------------------------------+-----------------+---------------------------+-------------------------+----------------+---------------------------+\n",
      "|cnpj_basico|razao_social_nome_empresarial                                                               |natureza_juridica|qualificacao_do_responsavel|capital_social_da_empresa|porte_da_empresa|ente_federativo_responsavel|\n",
      "+-----------+--------------------------------------------------------------------------------------------+-----------------+---------------------------+-------------------------+----------------+---------------------------+\n",
      "|306        |FRANCAMAR REFRIGERACAO TECNICA S/C LTDA                                                     |2240             |49                         |0.0                      |1               |null                       |\n",
      "|1355       |BRASILEIRO & OLIVEIRA LTDA                                                                  |2062             |49                         |0.0                      |5               |null                       |\n",
      "|4820       |REGISTRO DE IMOVEIS, TABELIONATO 1 DE NOTAS E TABELIONATO E REGISTRO DE CONSTRATOS MARITIMOS|3034             |32                         |0.0                      |5               |null                       |\n",
      "|5347       |ROSELY APARECIDA MONTEIRO CALTABIANO FREITAS                                                |2135             |50                         |0.0                      |5               |null                       |\n",
      "|6846       |BADU E FILHOS TECIDOS LTDA                                                                  |2062             |49                         |4000.0                   |1               |null                       |\n",
      "+-----------+--------------------------------------------------------------------------------------------+-----------------+---------------------------+-------------------------+----------------+---------------------------+\n",
      "only showing top 5 rows\n",
      "\n"
     ]
    }
   ],
   "source": [
    "empresasColNames = [\n",
    "    'cnpj_basico', \n",
    "    'razao_social_nome_empresarial', \n",
    "    'natureza_juridica', \n",
    "    'qualificacao_do_responsavel', \n",
    "    'capital_social_da_empresa', \n",
    "    'porte_da_empresa', \n",
    "    'ente_federativo_responsavel'\n",
    "]\n",
    "\n",
    "for index, colName in enumerate(empresasColNames):\n",
    "    empresas = empresas.withColumnRenamed(f\"_c{index}\", colName)\n",
    "    \n",
    "# convertendo string pra double\n",
    "from pyspark.sql.types import DoubleType, StringType\n",
    "from pyspark.sql import functions as f\n",
    "empresas = empresas.withColumn('capital_social_da_empresa', f.regexp_replace('capital_social_da_empresa', ',', '.'))\n",
    "empresas = empresas.withColumn('capital_social_da_empresa', empresas['capital_social_da_empresa'].cast(DoubleType()))\n",
    "\n",
    "empresas.show(5,False)"
   ]
  },
  {
   "cell_type": "code",
   "execution_count": 5,
   "metadata": {},
   "outputs": [
    {
     "name": "stdout",
     "output_type": "stream",
     "text": [
      "+-----------+----------------------+-------------------------------+--------------------+---------------------+-------------------------+----+-------------------+---------------------+-----------------------------------+------------+\n",
      "|cnpj_basico|identificador_de_socio|nome_do_socio_ou_razao_social  |cnpj_ou_cpf_do_socio|qualificacao_do_socio|data_de_entrada_sociedade|pais|representante_legal|nome_do_representante|qualificacao_do_representante_legal|faixa_etaria|\n",
      "+-----------+----------------------+-------------------------------+--------------------+---------------------+-------------------------+----+-------------------+---------------------+-----------------------------------+------------+\n",
      "|411        |2                     |LILIANA PATRICIA GUASTAVINO    |***678188**         |22                   |19940725                 |null|***000000**        |null                 |0                                  |7           |\n",
      "|411        |2                     |CRISTINA HUNDERTMARK           |***637848**         |28                   |19940725                 |null|***000000**        |null                 |0                                  |7           |\n",
      "|5813       |2                     |CELSO EDUARDO DE CASTRO STEPHAN|***786068**         |49                   |19940516                 |null|***000000**        |null                 |0                                  |8           |\n",
      "|5813       |2                     |EDUARDO BERRINGER STEPHAN      |***442348**         |49                   |19940516                 |null|***000000**        |null                 |0                                  |5           |\n",
      "|14798      |2                     |HANNE MAHFOUD FADEL            |***760388**         |49                   |19940609                 |null|***000000**        |null                 |0                                  |8           |\n",
      "+-----------+----------------------+-------------------------------+--------------------+---------------------+-------------------------+----+-------------------+---------------------+-----------------------------------+------------+\n",
      "only showing top 5 rows\n",
      "\n"
     ]
    }
   ],
   "source": [
    "sociosColNames = [\n",
    "    'cnpj_basico', \n",
    "    'identificador_de_socio', \n",
    "    'nome_do_socio_ou_razao_social', \n",
    "    'cnpj_ou_cpf_do_socio', \n",
    "    'qualificacao_do_socio', \n",
    "    'data_de_entrada_sociedade', \n",
    "    'pais', \n",
    "    'representante_legal', \n",
    "    'nome_do_representante', \n",
    "    'qualificacao_do_representante_legal', \n",
    "    'faixa_etaria'\n",
    "]\n",
    "\n",
    "for index, colName in enumerate(sociosColNames):\n",
    "    socios = socios.withColumnRenamed(f\"_c{index}\", colName)\n",
    "    \n",
    "\n",
    "socios.show(5,False)"
   ]
  },
  {
   "cell_type": "code",
   "execution_count": 8,
   "metadata": {},
   "outputs": [
    {
     "data": {
      "text/plain": [
       "DataFrame[cnpj_basico: int, razao_social_nome_empresarial: string, natureza_juridica: int, qualificacao_do_responsavel: int, capital_social_da_empresa: string, porte_da_empresa: int, ente_federativo_responsavel: string]"
      ]
     },
     "execution_count": 8,
     "metadata": {},
     "output_type": "execute_result"
    }
   ],
   "source": [
    "empresas.select('*')"
   ]
  },
  {
   "cell_type": "code",
   "execution_count": 9,
   "metadata": {},
   "outputs": [
    {
     "name": "stderr",
     "output_type": "stream",
     "text": [
      "                                                                                \r"
     ]
    },
    {
     "name": "stdout",
     "output_type": "stream",
     "text": [
      "+-----------+--------------------------------------------------------------------------------------------+-----------------+---------------------------+-------------------------+----------------+---------------------------+\n",
      "|cnpj_basico|razao_social_nome_empresarial                                                               |natureza_juridica|qualificacao_do_responsavel|capital_social_da_empresa|porte_da_empresa|ente_federativo_responsavel|\n",
      "+-----------+--------------------------------------------------------------------------------------------+-----------------+---------------------------+-------------------------+----------------+---------------------------+\n",
      "|306        |FRANCAMAR REFRIGERACAO TECNICA S/C LTDA                                                     |2240             |49                         |0,00                     |1               |null                       |\n",
      "|1355       |BRASILEIRO & OLIVEIRA LTDA                                                                  |2062             |49                         |0,00                     |5               |null                       |\n",
      "|4820       |REGISTRO DE IMOVEIS, TABELIONATO 1 DE NOTAS E TABELIONATO E REGISTRO DE CONSTRATOS MARITIMOS|3034             |32                         |0,00                     |5               |null                       |\n",
      "|5347       |ROSELY APARECIDA MONTEIRO CALTABIANO FREITAS                                                |2135             |50                         |0,00                     |5               |null                       |\n",
      "|6846       |BADU E FILHOS TECIDOS LTDA                                                                  |2062             |49                         |4000,00                  |1               |null                       |\n",
      "+-----------+--------------------------------------------------------------------------------------------+-----------------+---------------------------+-------------------------+----------------+---------------------------+\n",
      "only showing top 5 rows\n",
      "\n"
     ]
    }
   ],
   "source": [
    "empresas.select('*').show(5, False)"
   ]
  },
  {
   "cell_type": "code",
   "execution_count": 10,
   "metadata": {},
   "outputs": [
    {
     "name": "stdout",
     "output_type": "stream",
     "text": [
      "+-----------------+----------------+-------------------------+\n",
      "|natureza_juridica|porte_da_empresa|capital_social_da_empresa|\n",
      "+-----------------+----------------+-------------------------+\n",
      "|2240             |1               |0,00                     |\n",
      "|2062             |5               |0,00                     |\n",
      "|3034             |5               |0,00                     |\n",
      "|2135             |5               |0,00                     |\n",
      "|2062             |1               |4000,00                  |\n",
      "+-----------------+----------------+-------------------------+\n",
      "only showing top 5 rows\n",
      "\n"
     ]
    }
   ],
   "source": [
    "empresas.select('natureza_juridica', 'porte_da_empresa', 'capital_social_da_empresa').show(5, False)"
   ]
  },
  {
   "cell_type": "code",
   "execution_count": 26,
   "metadata": {},
   "outputs": [
    {
     "name": "stdout",
     "output_type": "stream",
     "text": [
      "+-----------+----------------------+-------------------------------+--------------------+---------------------+-------------------------+----+-------------------+---------------------+-----------------------------------+------------+\n",
      "|cnpj_basico|identificador_de_socio|nome_do_socio_ou_razao_social  |cnpj_ou_cpf_do_socio|qualificacao_do_socio|data_de_entrada_sociedade|pais|representante_legal|nome_do_representante|qualificacao_do_representante_legal|faixa_etaria|\n",
      "+-----------+----------------------+-------------------------------+--------------------+---------------------+-------------------------+----+-------------------+---------------------+-----------------------------------+------------+\n",
      "|411        |2                     |LILIANA PATRICIA GUASTAVINO    |***678188**         |22                   |19940725                 |null|***000000**        |null                 |0                                  |7           |\n",
      "|411        |2                     |CRISTINA HUNDERTMARK           |***637848**         |28                   |19940725                 |null|***000000**        |null                 |0                                  |7           |\n",
      "|5813       |2                     |CELSO EDUARDO DE CASTRO STEPHAN|***786068**         |49                   |19940516                 |null|***000000**        |null                 |0                                  |8           |\n",
      "|5813       |2                     |EDUARDO BERRINGER STEPHAN      |***442348**         |49                   |19940516                 |null|***000000**        |null                 |0                                  |5           |\n",
      "|14798      |2                     |HANNE MAHFOUD FADEL            |***760388**         |49                   |19940609                 |null|***000000**        |null                 |0                                  |8           |\n",
      "+-----------+----------------------+-------------------------------+--------------------+---------------------+-------------------------+----+-------------------+---------------------+-----------------------------------+------------+\n",
      "only showing top 5 rows\n",
      "\n"
     ]
    }
   ],
   "source": [
    "socios.select('*').show(5,False)"
   ]
  },
  {
   "cell_type": "code",
   "execution_count": 9,
   "metadata": {},
   "outputs": [
    {
     "name": "stderr",
     "output_type": "stream",
     "text": [
      "[Stage 8:===============================================>           (4 + 1) / 5]\r"
     ]
    },
    {
     "name": "stdout",
     "output_type": "stream",
     "text": [
      "+-----------+----------------------+-----------------------------+--------------------+---------------------+-------------------------+-------+-------------------+---------------------+-----------------------------------+------------+\n",
      "|cnpj_basico|identificador_de_socio|nome_do_socio_ou_razao_social|cnpj_ou_cpf_do_socio|qualificacao_do_socio|data_de_entrada_sociedade|   pais|representante_legal|nome_do_representante|qualificacao_do_representante_legal|faixa_etaria|\n",
      "+-----------+----------------------+-----------------------------+--------------------+---------------------+-------------------------+-------+-------------------+---------------------+-----------------------------------+------------+\n",
      "|          0|                     0|                          208|                1234|                    0|                        0|2038255|                  0|              1995432|                                  0|           0|\n",
      "+-----------+----------------------+-----------------------------+--------------------+---------------------+-------------------------+-------+-------------------+---------------------+-----------------------------------+------------+\n",
      "\n"
     ]
    },
    {
     "name": "stderr",
     "output_type": "stream",
     "text": [
      "                                                                                \r"
     ]
    }
   ],
   "source": [
    "from pyspark.sql import functions as f\n",
    "socios.select([f.count(f.when(f.isnull(c), 1)).alias(c) for c in socios.columns]).show()"
   ]
  },
  {
   "cell_type": "code",
   "execution_count": 7,
   "metadata": {},
   "outputs": [
    {
     "name": "stdout",
     "output_type": "stream",
     "text": [
      "root\n",
      " |-- cnpj_basico: integer (nullable = true)\n",
      " |-- identificador_de_socio: integer (nullable = true)\n",
      " |-- nome_do_socio_ou_razao_social: string (nullable = true)\n",
      " |-- cnpj_ou_cpf_do_socio: string (nullable = true)\n",
      " |-- qualificacao_do_socio: integer (nullable = true)\n",
      " |-- data_de_entrada_sociedade: integer (nullable = true)\n",
      " |-- pais: integer (nullable = true)\n",
      " |-- representante_legal: string (nullable = true)\n",
      " |-- nome_do_representante: string (nullable = true)\n",
      " |-- qualificacao_do_representante_legal: integer (nullable = true)\n",
      " |-- faixa_etaria: integer (nullable = true)\n",
      "\n"
     ]
    }
   ],
   "source": [
    "socios.printSchema()"
   ]
  },
  {
   "cell_type": "code",
   "execution_count": 29,
   "metadata": {},
   "outputs": [
    {
     "name": "stdout",
     "output_type": "stream",
     "text": [
      "+-------------------------------+------------+\n",
      "|nome_do_socio_ou_razao_social  |faixa_etaria|\n",
      "+-------------------------------+------------+\n",
      "|LILIANA PATRICIA GUASTAVINO    |7           |\n",
      "|CRISTINA HUNDERTMARK           |7           |\n",
      "|CELSO EDUARDO DE CASTRO STEPHAN|8           |\n",
      "|EDUARDO BERRINGER STEPHAN      |5           |\n",
      "|HANNE MAHFOUD FADEL            |8           |\n",
      "+-------------------------------+------------+\n",
      "only showing top 5 rows\n",
      "\n"
     ]
    }
   ],
   "source": [
    "socios.select('nome_do_socio_ou_razao_social', 'faixa_etaria').show(5, False)"
   ]
  },
  {
   "cell_type": "code",
   "execution_count": 11,
   "metadata": {},
   "outputs": [
    {
     "name": "stdout",
     "output_type": "stream",
     "text": [
      "+-----------+----------------------+-----------------------------+--------------------+---------------------+-------------------------+----+-------------------+---------------------+-----------------------------------+------------+\n",
      "|cnpj_basico|identificador_de_socio|nome_do_socio_ou_razao_social|cnpj_ou_cpf_do_socio|qualificacao_do_socio|data_de_entrada_sociedade|pais|representante_legal|nome_do_representante|qualificacao_do_representante_legal|faixa_etaria|\n",
      "+-----------+----------------------+-----------------------------+--------------------+---------------------+-------------------------+----+-------------------+---------------------+-----------------------------------+------------+\n",
      "|        411|                     2|         LILIANA PATRICIA ...|         ***678188**|                   22|                 19940725|   0|        ***000000**|                 null|                                  0|           7|\n",
      "|        411|                     2|         CRISTINA HUNDERTMARK|         ***637848**|                   28|                 19940725|   0|        ***000000**|                 null|                                  0|           7|\n",
      "|       5813|                     2|         CELSO EDUARDO DE ...|         ***786068**|                   49|                 19940516|   0|        ***000000**|                 null|                                  0|           8|\n",
      "|       5813|                     2|         EDUARDO BERRINGER...|         ***442348**|                   49|                 19940516|   0|        ***000000**|                 null|                                  0|           5|\n",
      "|      14798|                     2|          HANNE MAHFOUD FADEL|         ***760388**|                   49|                 19940609|   0|        ***000000**|                 null|                                  0|           8|\n",
      "|      14798|                     2|             CLOD ASSAD FADEL|         ***205668**|                   22|                 19940609|   0|        ***000000**|                 null|                                  0|           6|\n",
      "|      17826|                     2|            WALKYRIA ALGARVES|         ***689078**|                   49|                 19970227|   0|        ***000000**|                 null|                                  0|           7|\n",
      "|      17826|                     2|         SEBASTIAO JADIR T...|         ***904728**|                   49|                 20090813|   0|        ***000000**|                 null|                                  0|           5|\n",
      "|      19491|                     2|              JOSE JOAO ADAMO|         ***235698**|                   49|                 19940615|   0|        ***000000**|                 null|                                  0|           7|\n",
      "|      19491|                     2|         ROSEMARY CANTUARI...|         ***959818**|                   49|                 19940615|   0|        ***000000**|                 null|                                  0|           6|\n",
      "|      27848|                     2|         MARCOS AURELIO MOTTA|         ***262857**|                   49|                 19940718|   0|        ***000000**|                 null|                                  0|           7|\n",
      "|      27848|                     2|         EDVAN CANDIDO ALE...|         ***460998**|                   22|                 19940718|   0|        ***000000**|                 null|                                  0|           5|\n",
      "|      35232|                     2|           JAIME MOURE COLINO|         ***565078**|                   49|                 19941020|   0|        ***000000**|                 null|                                  0|           6|\n",
      "|      35232|                     2|         SANDRA APARECIDA ...|         ***120938**|                   49|                 19960628|   0|        ***000000**|                 null|                                  0|           6|\n",
      "|      35232|                     2|         LEIDA MARQUES PER...|         ***395928**|                   49|                 19960628|   0|        ***000000**|                 null|                                  0|           6|\n",
      "|      56221|                     2|         DONZILIA FERREIRA...|         ***904307**|                   49|                 19940427|   0|        ***000000**|                 null|                                  0|           8|\n",
      "|      56221|                     2|         ISRAEL AMERICANO ...|         ***571606**|                   22|                 19940424|   0|        ***000000**|                 null|                                  0|           5|\n",
      "|      82946|                     2|         VALERIA RIBEIRO T...|         ***438401**|                   22|                 19940601|   0|        ***000000**|                 null|                                  0|           6|\n",
      "|      82946|                     2|         CARLOS RAFAEL DO ...|         ***701279**|                   49|                 20090922|   0|        ***000000**|                 null|                                  0|           5|\n",
      "|      85894|                     2|         IVAN MARQUEZ DE M...|         ***342771**|                   49|                 19820608|   0|        ***000000**|                 null|                                  0|           7|\n",
      "+-----------+----------------------+-----------------------------+--------------------+---------------------+-------------------------+----+-------------------+---------------------+-----------------------------------+------------+\n",
      "only showing top 20 rows\n",
      "\n"
     ]
    }
   ],
   "source": [
    "#substitui NaN\n",
    "socios.na.fill(0).show()"
   ]
  },
  {
   "cell_type": "code",
   "execution_count": 12,
   "metadata": {},
   "outputs": [
    {
     "name": "stdout",
     "output_type": "stream",
     "text": [
      "+-----------+----------------------+-----------------------------+--------------------+---------------------+-------------------------+----+-------------------+---------------------+-----------------------------------+------------+\n",
      "|cnpj_basico|identificador_de_socio|nome_do_socio_ou_razao_social|cnpj_ou_cpf_do_socio|qualificacao_do_socio|data_de_entrada_sociedade|pais|representante_legal|nome_do_representante|qualificacao_do_representante_legal|faixa_etaria|\n",
      "+-----------+----------------------+-----------------------------+--------------------+---------------------+-------------------------+----+-------------------+---------------------+-----------------------------------+------------+\n",
      "|        411|                     2|         LILIANA PATRICIA ...|         ***678188**|                   22|                 19940725|null|        ***000000**|                    -|                                  0|           7|\n",
      "|        411|                     2|         CRISTINA HUNDERTMARK|         ***637848**|                   28|                 19940725|null|        ***000000**|                    -|                                  0|           7|\n",
      "|       5813|                     2|         CELSO EDUARDO DE ...|         ***786068**|                   49|                 19940516|null|        ***000000**|                    -|                                  0|           8|\n",
      "|       5813|                     2|         EDUARDO BERRINGER...|         ***442348**|                   49|                 19940516|null|        ***000000**|                    -|                                  0|           5|\n",
      "|      14798|                     2|          HANNE MAHFOUD FADEL|         ***760388**|                   49|                 19940609|null|        ***000000**|                    -|                                  0|           8|\n",
      "|      14798|                     2|             CLOD ASSAD FADEL|         ***205668**|                   22|                 19940609|null|        ***000000**|                    -|                                  0|           6|\n",
      "|      17826|                     2|            WALKYRIA ALGARVES|         ***689078**|                   49|                 19970227|null|        ***000000**|                    -|                                  0|           7|\n",
      "|      17826|                     2|         SEBASTIAO JADIR T...|         ***904728**|                   49|                 20090813|null|        ***000000**|                    -|                                  0|           5|\n",
      "|      19491|                     2|              JOSE JOAO ADAMO|         ***235698**|                   49|                 19940615|null|        ***000000**|                    -|                                  0|           7|\n",
      "|      19491|                     2|         ROSEMARY CANTUARI...|         ***959818**|                   49|                 19940615|null|        ***000000**|                    -|                                  0|           6|\n",
      "|      27848|                     2|         MARCOS AURELIO MOTTA|         ***262857**|                   49|                 19940718|null|        ***000000**|                    -|                                  0|           7|\n",
      "|      27848|                     2|         EDVAN CANDIDO ALE...|         ***460998**|                   22|                 19940718|null|        ***000000**|                    -|                                  0|           5|\n",
      "|      35232|                     2|           JAIME MOURE COLINO|         ***565078**|                   49|                 19941020|null|        ***000000**|                    -|                                  0|           6|\n",
      "|      35232|                     2|         SANDRA APARECIDA ...|         ***120938**|                   49|                 19960628|null|        ***000000**|                    -|                                  0|           6|\n",
      "|      35232|                     2|         LEIDA MARQUES PER...|         ***395928**|                   49|                 19960628|null|        ***000000**|                    -|                                  0|           6|\n",
      "|      56221|                     2|         DONZILIA FERREIRA...|         ***904307**|                   49|                 19940427|null|        ***000000**|                    -|                                  0|           8|\n",
      "|      56221|                     2|         ISRAEL AMERICANO ...|         ***571606**|                   22|                 19940424|null|        ***000000**|                    -|                                  0|           5|\n",
      "|      82946|                     2|         VALERIA RIBEIRO T...|         ***438401**|                   22|                 19940601|null|        ***000000**|                    -|                                  0|           6|\n",
      "|      82946|                     2|         CARLOS RAFAEL DO ...|         ***701279**|                   49|                 20090922|null|        ***000000**|                    -|                                  0|           5|\n",
      "|      85894|                     2|         IVAN MARQUEZ DE M...|         ***342771**|                   49|                 19820608|null|        ***000000**|                    -|                                  0|           7|\n",
      "+-----------+----------------------+-----------------------------+--------------------+---------------------+-------------------------+----+-------------------+---------------------+-----------------------------------+------------+\n",
      "only showing top 20 rows\n",
      "\n"
     ]
    }
   ],
   "source": [
    "#substitui None\n",
    "socios.na.fill('-').show()"
   ]
  },
  {
   "cell_type": "code",
   "execution_count": 15,
   "metadata": {},
   "outputs": [
    {
     "name": "stdout",
     "output_type": "stream",
     "text": [
      "+-------------------------------+------------+--------------+\n",
      "|nome_do_socio_ou_razao_social  |faixa_etaria|ano_de_entrada|\n",
      "+-------------------------------+------------+--------------+\n",
      "|LILIANA PATRICIA GUASTAVINO    |7           |1994          |\n",
      "|CRISTINA HUNDERTMARK           |7           |1994          |\n",
      "|CELSO EDUARDO DE CASTRO STEPHAN|8           |1994          |\n",
      "|EDUARDO BERRINGER STEPHAN      |5           |1994          |\n",
      "|HANNE MAHFOUD FADEL            |8           |1994          |\n",
      "+-------------------------------+------------+--------------+\n",
      "only showing top 5 rows\n",
      "\n"
     ]
    },
    {
     "name": "stderr",
     "output_type": "stream",
     "text": [
      "                                                                                \r"
     ]
    }
   ],
   "source": [
    "# convertendo string pra double\n",
    "from pyspark.sql.types import StringType\n",
    "from pyspark.sql import functions as f\n",
    "socios = socios.withColumn('data_de_entrada_sociedade', f.to_date(socios['data_de_entrada_sociedade'].cast(StringType()), 'yyyyMMdd'))\n",
    "socios.select('nome_do_socio_ou_razao_social', 'faixa_etaria', f.year('data_de_entrada_sociedade').alias('ano_de_entrada')).show(5, False)"
   ]
  },
  {
   "cell_type": "code",
   "execution_count": 16,
   "metadata": {},
   "outputs": [
    {
     "name": "stderr",
     "output_type": "stream",
     "text": [
      "[Stage 14:==============================================>           (4 + 1) / 5]\r"
     ]
    },
    {
     "name": "stdout",
     "output_type": "stream",
     "text": [
      "+----------------------------------------------+------------+--------------+\n",
      "|nome_do_socio_ou_razao_social                 |faixa_etaria|ano_de_entrada|\n",
      "+----------------------------------------------+------------+--------------+\n",
      "|COLUMBUS CAPITAL INVESTMENTS LTD.             |0           |2021          |\n",
      "|DOIS RIOS COMERCIO DE ALIMENTOS LTDA          |0           |2021          |\n",
      "|CHOOSE MED PARTICIPACOES E GESTAO MEDICA LTDA |0           |2021          |\n",
      "|OLIVEPART PARTICIPACOES SOCIETARIAS LTDA      |0           |2021          |\n",
      "|MMI  INSPIRE PARTICIPACOES UNIPESSOAL LIMITADA|0           |2021          |\n",
      "+----------------------------------------------+------------+--------------+\n",
      "only showing top 5 rows\n",
      "\n"
     ]
    },
    {
     "name": "stderr",
     "output_type": "stream",
     "text": [
      "                                                                                \r"
     ]
    }
   ],
   "source": [
    "#ordenação\n",
    "socios.select('nome_do_socio_ou_razao_social', 'faixa_etaria', f.year('data_de_entrada_sociedade').alias('ano_de_entrada')).orderBy(['ano_de_entrada', 'faixa_etaria'], ascending=[False,True]).show(5, False)"
   ]
  }
 ],
 "metadata": {
  "kernelspec": {
   "display_name": "Python 3",
   "language": "python",
   "name": "python3"
  },
  "language_info": {
   "codemirror_mode": {
    "name": "ipython",
    "version": 3
   },
   "file_extension": ".py",
   "mimetype": "text/x-python",
   "name": "python",
   "nbconvert_exporter": "python",
   "pygments_lexer": "ipython3",
   "version": "3.8.10"
  },
  "orig_nbformat": 4
 },
 "nbformat": 4,
 "nbformat_minor": 2
}
